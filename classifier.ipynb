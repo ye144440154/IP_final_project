{
 "cells": [
  {
   "cell_type": "code",
   "execution_count": null,
   "id": "f0285ff6",
   "metadata": {},
   "outputs": [],
   "source": [
    "import os\n",
    "import numpy as np\n",
    "from PIL import Image\n",
    "import random\n",
    "from feature import *"
   ]
  },
  {
   "cell_type": "code",
   "execution_count": null,
   "id": "5de5faf7",
   "metadata": {},
   "outputs": [],
   "source": [
    "def load_dataset(data_folder):\n",
    "    images = []\n",
    "    labels = []\n",
    "    for label in os.listdir(data_folder):\n",
    "        label_path = os.path.join(data_folder, label)\n",
    "        if not os.path.isdir(label_path):\n",
    "            continue\n",
    "        for img_name in os.listdir(label_path):\n",
    "            img_path = os.path.join(label_path, img_name)\n",
    "            try:\n",
    "                image = Image.open(img_path).convert('RGB')\n",
    "                images.append(np.array(image))\n",
    "                labels.append(label)\n",
    "            except Exception as e:\n",
    "                print(f\"載入圖片失敗 {img_path}，錯誤: {e}\")\n",
    "    return images, labels"
   ]
  },
  {
   "cell_type": "code",
   "execution_count": null,
   "id": "811c0539",
   "metadata": {},
   "outputs": [],
   "source": [
    "def split_train_test(images, labels, test_ratio=0.2, seed=42):\n",
    "    random.seed(seed)\n",
    "    label_to_indices = {}\n",
    "    for idx, label in enumerate(labels):\n",
    "        label_to_indices.setdefault(label, []).append(idx)\n",
    "    \n",
    "    train_indices = []\n",
    "    test_indices = []\n",
    "    for label, indices in label_to_indices.items():\n",
    "        random.shuffle(indices)\n",
    "        split_point = int(len(indices) * (1 - test_ratio))\n",
    "        train_indices.extend(indices[:split_point])\n",
    "        test_indices.extend(indices[split_point:])\n",
    "    \n",
    "    train_images = [images[i] for i in train_indices]\n",
    "    train_labels = [labels[i] for i in train_indices]\n",
    "    test_images = [images[i] for i in test_indices]\n",
    "    test_labels = [labels[i] for i in test_indices]\n",
    "    return train_images, train_labels, test_images, test_labels"
   ]
  },
  {
   "cell_type": "code",
   "execution_count": null,
   "id": "2fccf543",
   "metadata": {},
   "outputs": [],
   "source": [
    "\n",
    "\n",
    "data_path=\"\"\n",
    "\n",
    "print(\"載入資料集...\")\n",
    "images, labels = load_dataset(data_path)\n",
    "print(f\"共載入圖片數量: {len(images)}\")\n",
    "\n",
    "print(\"切分訓練集與測試集(8:2)...\")\n",
    "train_imgs, train_lbls, test_imgs, test_lbls = split_train_test(images, labels)\n",
    "print(f\"訓練集大小: {len(train_imgs)}，測試集大小: {len(test_imgs)}\")\n",
    "\n",
    "print(\"提取訓練集特徵...\")\n",
    "train_feats = [mango_feature_extractor(img) for img in train_imgs]\n",
    "print(\"提取測試集特徵...\")\n",
    "test_feats = [mango_feature_extractor(img) for img in test_imgs]\n",
    "\n",
    "print(\"訓練KNN分類器...\")\n",
    "knn = KNNClassifier(k=5)\n",
    "knn.fit(train_feats, train_lbls)\n",
    "\n",
    "print(\"開始測試...\")\n",
    "correct = 0\n",
    "for feat, lbl in zip(test_feats, test_lbls):\n",
    "    pred = knn.predict(feat)\n",
    "    if pred == lbl:\n",
    "        correct += 1\n",
    "\n",
    "accuracy = correct / len(test_lbls)\n",
    "print(f\"測試集數量: {len(test_lbls)}\")\n",
    "print(f\"分類準確率: {accuracy*100:.2f}%\")\n",
    "print(f\"錯誤率: {(1 - accuracy)*100:.2f}%\")"
   ]
  }
 ],
 "metadata": {
  "language_info": {
   "name": "python"
  }
 },
 "nbformat": 4,
 "nbformat_minor": 5
}
