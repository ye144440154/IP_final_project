{
 "cells": [
  {
   "cell_type": "code",
   "execution_count": 3,
   "id": "d61ca6cd",
   "metadata": {},
   "outputs": [],
   "source": [
    "import os\n",
    "import numpy as np\n",
    "from PIL import Image\n",
    "from morphology import *\n",
    "import matplotlib.pyplot as plt "
   ]
  },
  {
   "cell_type": "code",
   "execution_count": null,
   "id": "1b7f98b0",
   "metadata": {},
   "outputs": [
    {
     "name": "stdout",
     "output_type": "stream",
     "text": [
      "已儲存切割圖片: ./Output/Classification_output\\Anwar Ratool\\IMG_20210630_102834.jpg\n"
     ]
    }
   ],
   "source": [
    "input_folder=\"./Dataset/Classification_dataset\"\n",
    "output_folder=\"./Output/Classification_output\"\n",
    "compare_folder=\"./Compare/Classification_compare\"\n",
    "\n",
    "# input_folder=\"./Dataset/Grading_dataset\"\n",
    "# output_folder=\"./Output/Grading_output\"\n",
    "# compare_folder=\"./Output/Grading_compare\"\n",
    "\n",
    "\n",
    "if not os.path.exists(output_folder):\n",
    "    os.makedirs(output_folder)\n",
    "\n",
    "if not os.path.exists(compare_folder):\n",
    "    os.makedirs(compare_folder)\n",
    "\n",
    "for label in os.listdir(input_folder):\n",
    "\n",
    "    label_path = os.path.join(input_folder, label)\n",
    "    if not os.path.isdir(label_path):\n",
    "        continue\n",
    "\n",
    "    out_label_path = os.path.join(output_folder, label)\n",
    "    if not os.path.exists(out_label_path):\n",
    "        os.makedirs(out_label_path)\n",
    "\n",
    "    compare_label_path = os.path.join(compare_folder, label)\n",
    "    if not os.path.exists(compare_label_path):\n",
    "        os.makedirs(compare_label_path)\n",
    "\n",
    "    for img_name in os.listdir(label_path):\n",
    "        img_path = os.path.join(label_path, img_name)\n",
    "        try:\n",
    "            image = Image.open(img_path).convert('RGB')\n",
    "            image_np = np.array(image)\n",
    "            mask = manual_color_segmentation(image_np)\n",
    "            cleaned_mask = morphological_cleanup(mask)\n",
    "            contour = find_mango_contour(cleaned_mask)\n",
    "            if contour is None:\n",
    "                print(f\"警告: {img_path} 無法找到芒果輪廓，跳過此圖\")\n",
    "                continue\n",
    "            x_min, y_min = np.min(contour, axis=0)\n",
    "            x_max, y_max = np.max(contour, axis=0)\n",
    "            cropped = image_np[y_min:y_max, x_min:x_max]\n",
    "            cropped_img = Image.fromarray(cropped)\n",
    "            save_path = os.path.join(out_label_path, img_name)\n",
    "            cropped_img.save(save_path)\n",
    "\n",
    "            # 製作比較圖\n",
    "            fig, (ax1, ax2) = plt.subplots(1, 2, figsize=(10, 5))\n",
    "            ax1.imshow(image_np)\n",
    "            ax1.set_title('before')\n",
    "            ax1.axis('off')\n",
    "            ax2.imshow(cropped)\n",
    "            ax2.set_title('after')\n",
    "            ax2.axis('off')\n",
    "            compare_save_path = os.path.join(compare_label_path, img_name)\n",
    "            plt.savefig(compare_save_path, bbox_inches='tight')\n",
    "            plt.close(fig)\n",
    "\n",
    "            print(f\"已儲存切割圖片: {save_path}\")\n",
    "        except Exception as e:\n",
    "            print(f\"處理圖片失敗: {img_path}，錯誤: {e}\")"
   ]
  },
  {
   "cell_type": "code",
   "execution_count": null,
   "id": "44f0f8cd",
   "metadata": {},
   "outputs": [],
   "source": []
  }
 ],
 "metadata": {
  "kernelspec": {
   "display_name": "basic",
   "language": "python",
   "name": "python3"
  },
  "language_info": {
   "codemirror_mode": {
    "name": "ipython",
    "version": 3
   },
   "file_extension": ".py",
   "mimetype": "text/x-python",
   "name": "python",
   "nbconvert_exporter": "python",
   "pygments_lexer": "ipython3",
   "version": "3.12.9"
  }
 },
 "nbformat": 4,
 "nbformat_minor": 5
}
