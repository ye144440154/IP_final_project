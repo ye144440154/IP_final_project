{
 "cells": [
  {
   "cell_type": "code",
   "execution_count": 1,
   "id": "d61ca6cd",
   "metadata": {},
   "outputs": [],
   "source": [
    "import os\n",
    "import numpy as np\n",
    "from PIL import Image\n",
    "from morphology import *\n",
    "import matplotlib.pyplot as plt \n",
    "import pandas as pd\n"
   ]
  },
  {
   "cell_type": "code",
   "execution_count": null,
   "id": "087ab0fe",
   "metadata": {},
   "outputs": [],
   "source": [
    "img_path=\"test.jpg\"\n",
    "result,mask = cropper_threshold(img_path)\n",
    "plt.figure()\n",
    "plt.imshow(result)\n",
    "plt.axis('off')\n",
    "plt.savefig(\"output1.jpg\",bbox_inches='tight', pad_inches=0)\n",
    "plt.close()"
   ]
  },
  {
   "cell_type": "code",
   "execution_count": null,
   "id": "1b7f98b0",
   "metadata": {},
   "outputs": [
    {
     "name": "stdout",
     "output_type": "stream",
     "text": [
      "成功處理./Dataset/Classification_dataset\\Anwar Ratool\\IMG_20210630_102834.jpg\n",
      "成功處理./Dataset/Classification_dataset\\Anwar Ratool\\IMG_20210630_102839.jpg\n",
      "成功處理./Dataset/Classification_dataset\\Anwar Ratool\\IMG_20210630_102859.jpg\n",
      "成功處理./Dataset/Classification_dataset\\Anwar Ratool\\IMG_20210630_102913.jpg\n",
      "成功處理./Dataset/Classification_dataset\\Anwar Ratool\\IMG_20210630_102920.jpg\n",
      "成功處理./Dataset/Classification_dataset\\Anwar Ratool\\IMG_20210630_102934.jpg\n",
      "成功處理./Dataset/Classification_dataset\\Anwar Ratool\\IMG_20210630_102950.jpg\n"
     ]
    }
   ],
   "source": [
    "\n",
    "input_folders = [\"./Dataset/Classification_dataset\",\"./Dataset/Grading_dataset\"]\n",
    "output_folders = [\"./Output/Classification_output\",\"./Output/Grading_output\"]\n",
    "compare_folders = [\"./Compare/Classification_compare\" , \"./Compare/Grading_compare\"]\n",
    "mask_folders = [\"./Mask/Classification_mask\",\"./Mask/Grading_mask\"]\n",
    "\n",
    "for k in range(0,2):\n",
    "    input_folder=input_folders[k]\n",
    "    output_folder = output_folders[k]\n",
    "    compare_folder = compare_folders[k]\n",
    "    mask_folder = mask_folders[k]\n",
    "\n",
    "    if not os.path.exists(output_folder):\n",
    "        os.makedirs(output_folder)\n",
    "\n",
    "    if not os.path.exists(compare_folder):\n",
    "        os.makedirs(compare_folder)\n",
    "\n",
    "    for label in os.listdir(input_folder):\n",
    "\n",
    "        label_path = os.path.join(input_folder, label)\n",
    "        if not os.path.isdir(label_path):\n",
    "            continue\n",
    "\n",
    "        output_label_path = os.path.join(output_folder, label)\n",
    "        if not os.path.exists(output_label_path):\n",
    "            os.makedirs(output_label_path)\n",
    "\n",
    "        compare_label_path = os.path.join(compare_folder, label)\n",
    "        if not os.path.exists(compare_label_path):\n",
    "            os.makedirs(compare_label_path)\n",
    "\n",
    "        mask_label_path = os.path.join(mask_folder, label)\n",
    "        if not os.path.exists(mask_label_path):\n",
    "            os.makedirs(mask_label_path)\n",
    "        for img_name in os.listdir(label_path):\n",
    "\n",
    "            img_path = os.path.join(label_path, img_name)\n",
    "            result,mask= cropper_threshold(img_path)\n",
    "\n",
    "            plt.figure()\n",
    "            plt.imshow(result)\n",
    "            plt.axis('off')\n",
    "            plt.savefig(os.path.join(output_label_path,img_name[:-3]+\"png\"),bbox_inches='tight', pad_inches=0)\n",
    "            plt.close()\n",
    "\n",
    "            (pd.DataFrame(mask)).to_csv(os.path.join(mask_label_path,img_name[:-3]+\"csv\"),index=0,header=0)\n",
    "\n",
    "            img = cv2.imread(img_path)\n",
    "            img_np = np.array(Image.open(img_path).convert(\"RGB\"))\n",
    "            fig, (ax1, ax2) = plt.subplots(1, 2, figsize=(10, 5))\n",
    "            ax1.imshow(img_np)\n",
    "            ax1.set_title(\"before\")\n",
    "            ax1.axis(\"off\")\n",
    "            ax2.imshow(result)\n",
    "            ax2.set_title(\"after\")\n",
    "            ax2.axis(\"off\")\n",
    "            compare_save_path = os.path.join(compare_label_path, img_name)\n",
    "            plt.savefig(compare_save_path, bbox_inches=\"tight\") \n",
    "            plt.close(fig)\n",
    "            print(f\"成功處理{os.path.join(label_path, img_name)}\")\n"
   ]
  },
  {
   "cell_type": "code",
   "execution_count": null,
   "id": "44f0f8cd",
   "metadata": {},
   "outputs": [],
   "source": []
  }
 ],
 "metadata": {
  "kernelspec": {
   "display_name": "basic",
   "language": "python",
   "name": "python3"
  },
  "language_info": {
   "codemirror_mode": {
    "name": "ipython",
    "version": 3
   },
   "file_extension": ".py",
   "mimetype": "text/x-python",
   "name": "python",
   "nbconvert_exporter": "python",
   "pygments_lexer": "ipython3",
   "version": "3.12.9"
  }
 },
 "nbformat": 4,
 "nbformat_minor": 5
}
