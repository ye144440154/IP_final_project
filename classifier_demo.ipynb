{
 "cells": [
  {
   "cell_type": "code",
   "execution_count": null,
   "id": "f0285ff6",
   "metadata": {},
   "outputs": [],
   "source": [
    "import os\n",
    "import numpy as np\n",
    "from PIL import Image\n",
    "import random\n",
    "from feature import *"
   ]
  },
  {
   "cell_type": "code",
   "execution_count": 26,
   "id": "807f521e",
   "metadata": {},
   "outputs": [
    {
     "name": "stdout",
     "output_type": "stream",
     "text": [
      "模型準確率: 0.7833\n",
      "錯誤率: 0.2167\n"
     ]
    }
   ],
   "source": [
    "import pandas as pd\n",
    "import random\n",
    "from sklearn.model_selection import train_test_split\n",
    "from sklearn.preprocessing import StandardScaler\n",
    "from sklearn.neighbors import KNeighborsClassifier\n",
    "from sklearn.metrics import accuracy_score\n",
    "\n",
    "\n",
    "# 載入資料\n",
    "#df = pd.read_csv('Classification_features.csv')\n",
    "df = pd.read_csv('Grading_features.csv')\n",
    "\n",
    "# 檢查是否有可分類的標籤\n",
    "if len(df['class_name'].unique()) == 1:\n",
    "    raise ValueError(\"所有資料都屬於同一類別，無法進行分類訓練\")\n",
    "\n",
    "# 特徵與標籤分割\n",
    "X = df.drop(['class_name', 'label', 'filename'], axis=1)\n",
    "y = df['class_name']\n",
    "\n",
    "# 資料分割（8:2）\n",
    "X_train, X_test, y_train, y_test = train_test_split(\n",
    "    X, y, test_size=0.2, random_state=random.seed(), stratify=y)\n",
    "\n",
    "# 特徵標準化\n",
    "scaler = StandardScaler()\n",
    "X_train = scaler.fit_transform(X_train)\n",
    "X_test = scaler.transform(X_test)\n",
    "\n",
    "# KNN模型訓練（k=5）\n",
    "knn = KNeighborsClassifier(n_neighbors=5)\n",
    "knn.fit(X_train, y_train)\n",
    "\n",
    "# 預測與評估\n",
    "y_pred = knn.predict(X_test)\n",
    "accuracy = accuracy_score(y_test, y_pred)\n",
    "\n",
    "print(f'模型準確率: {accuracy:.4f}')\n",
    "print(f'錯誤率: {1 - accuracy:.4f}')"
   ]
  },
  {
   "cell_type": "code",
   "execution_count": null,
   "id": "5de5faf7",
   "metadata": {},
   "outputs": [],
   "source": [
    "def load_dataset(data_folder):\n",
    "    images = []\n",
    "    labels = []\n",
    "    for label in os.listdir(data_folder):\n",
    "        label_path = os.path.join(data_folder, label)\n",
    "        if not os.path.isdir(label_path):\n",
    "            continue\n",
    "        for img_name in os.listdir(label_path):\n",
    "            img_path = os.path.join(label_path, img_name)\n",
    "            try:\n",
    "                image = Image.open(img_path).convert('RGB')\n",
    "                images.append(np.array(image))\n",
    "                labels.append(label)\n",
    "            except Exception as e:\n",
    "                print(f\"載入圖片失敗 {img_path}，錯誤: {e}\")\n",
    "    return images, labels"
   ]
  },
  {
   "cell_type": "code",
   "execution_count": null,
   "id": "811c0539",
   "metadata": {},
   "outputs": [],
   "source": [
    "def split_train_test(images, labels, test_ratio=0.2, seed=42):\n",
    "    random.seed(seed)\n",
    "    label_to_indices = {}\n",
    "    for idx, label in enumerate(labels):\n",
    "        label_to_indices.setdefault(label, []).append(idx)\n",
    "    \n",
    "    train_indices = []\n",
    "    test_indices = []\n",
    "    for label, indices in label_to_indices.items():\n",
    "        random.shuffle(indices)\n",
    "        split_point = int(len(indices) * (1 - test_ratio))\n",
    "        train_indices.extend(indices[:split_point])\n",
    "        test_indices.extend(indices[split_point:])\n",
    "    \n",
    "    train_images = [images[i] for i in train_indices]\n",
    "    train_labels = [labels[i] for i in train_indices]\n",
    "    test_images = [images[i] for i in test_indices]\n",
    "    test_labels = [labels[i] for i in test_indices]\n",
    "    return train_images, train_labels, test_images, test_labels"
   ]
  },
  {
   "cell_type": "code",
   "execution_count": null,
   "id": "2fccf543",
   "metadata": {},
   "outputs": [],
   "source": [
    "\n",
    "\n",
    "data_path=\"\"\n",
    "\n",
    "print(\"載入資料集...\")\n",
    "images, labels = load_dataset(data_path)\n",
    "print(f\"共載入圖片數量: {len(images)}\")\n",
    "\n",
    "print(\"切分訓練集與測試集(8:2)...\")\n",
    "train_imgs, train_lbls, test_imgs, test_lbls = split_train_test(images, labels)\n",
    "print(f\"訓練集大小: {len(train_imgs)}，測試集大小: {len(test_imgs)}\")\n",
    "\n",
    "print(\"提取訓練集特徵...\")\n",
    "train_feats = [mango_feature_extractor(img) for img in train_imgs]\n",
    "print(\"提取測試集特徵...\")\n",
    "test_feats = [mango_feature_extractor(img) for img in test_imgs]\n",
    "\n",
    "print(\"訓練KNN分類器...\")\n",
    "knn = KNNClassifier(k=5)\n",
    "knn.fit(train_feats, train_lbls)\n",
    "\n",
    "print(\"開始測試...\")\n",
    "correct = 0\n",
    "for feat, lbl in zip(test_feats, test_lbls):\n",
    "    pred = knn.predict(feat)\n",
    "    if pred == lbl:\n",
    "        correct += 1\n",
    "\n",
    "accuracy = correct / len(test_lbls)\n",
    "print(f\"測試集數量: {len(test_lbls)}\")\n",
    "print(f\"分類準確率: {accuracy*100:.2f}%\")\n",
    "print(f\"錯誤率: {(1 - accuracy)*100:.2f}%\")"
   ]
  }
 ],
 "metadata": {
  "kernelspec": {
   "display_name": "basic",
   "language": "python",
   "name": "python3"
  },
  "language_info": {
   "codemirror_mode": {
    "name": "ipython",
    "version": 3
   },
   "file_extension": ".py",
   "mimetype": "text/x-python",
   "name": "python",
   "nbconvert_exporter": "python",
   "pygments_lexer": "ipython3",
   "version": "3.12.9"
  }
 },
 "nbformat": 4,
 "nbformat_minor": 5
}
